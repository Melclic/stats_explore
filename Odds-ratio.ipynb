{
 "cells": [
  {
   "cell_type": "code",
   "execution_count": 6,
   "id": "a223b93f",
   "metadata": {},
   "outputs": [],
   "source": [
    "import numpy as np\n",
    "from scipy.stats import fisher_exact"
   ]
  },
  {
   "cell_type": "code",
   "execution_count": 7,
   "id": "465c08f0",
   "metadata": {},
   "outputs": [],
   "source": [
    "### odds ratio of a disease given the two different "
   ]
  },
  {
   "cell_type": "code",
   "execution_count": 8,
   "id": "fc33a508",
   "metadata": {},
   "outputs": [],
   "source": [
    "table = np.array([[180, 20], [40, 10]])"
   ]
  },
  {
   "cell_type": "code",
   "execution_count": 9,
   "id": "de3606de",
   "metadata": {},
   "outputs": [],
   "source": [
    "oddsr, p = fisher_exact(table, alternative='two-sided')"
   ]
  },
  {
   "cell_type": "code",
   "execution_count": null,
   "id": "6375e94f",
   "metadata": {},
   "outputs": [],
   "source": []
  }
 ],
 "metadata": {
  "kernelspec": {
   "display_name": "Python 3",
   "language": "python",
   "name": "python3"
  },
  "language_info": {
   "codemirror_mode": {
    "name": "ipython",
    "version": 3
   },
   "file_extension": ".py",
   "mimetype": "text/x-python",
   "name": "python",
   "nbconvert_exporter": "python",
   "pygments_lexer": "ipython3",
   "version": "3.9.2"
  }
 },
 "nbformat": 4,
 "nbformat_minor": 5
}
